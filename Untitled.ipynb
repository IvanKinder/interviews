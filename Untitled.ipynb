{
 "cells": [
  {
   "cell_type": "code",
   "execution_count": 2,
   "id": "be9fdc5f",
   "metadata": {},
   "outputs": [
    {
     "name": "stdout",
     "output_type": "stream",
     "text": [
      "        workout_id   cost            start_at   status workout_schedule_type  \\\n",
      "0         30793909    NaN 2020-11-13 12:45:00  success                 trial   \n",
      "1         31123309  750.0 2020-11-21 13:00:00  success               regular   \n",
      "2         31412167  750.0 2020-11-28 13:00:00  success               regular   \n",
      "3         31703605  750.0 2020-12-05 13:00:00  success               regular   \n",
      "4         26904500    NaN 2020-08-06 18:20:00  success                 trial   \n",
      "...            ...    ...                 ...      ...                   ...   \n",
      "104567    22415211    NaN 2020-04-21 20:20:00  success                 trial   \n",
      "104572    25174372    NaN 2020-06-24 12:20:00  success                 trial   \n",
      "104591    25301299    NaN 2020-06-27 10:20:00  success                 trial   \n",
      "104600    28041927    NaN 2020-09-05 16:20:00  success                 trial   \n",
      "104617    22188340    NaN 2020-04-16 14:20:00  success                 trial   \n",
      "\n",
      "        client_id client_status workout_type trainer_department  trainer_id  \n",
      "0           22034           NaN      general              Sales    10722051  \n",
      "1           22034           new      general          Spartacus      940642  \n",
      "2           22034           new      general          Spartacus      940642  \n",
      "3           22034        active      general          Spartacus      940642  \n",
      "4           88101           NaN      general              Sales     3826530  \n",
      "...           ...           ...          ...                ...         ...  \n",
      "104567    4561664           NaN      general              Sales     6039447  \n",
      "104572    4567632           NaN      general              Sales     6815741  \n",
      "104591    4591076           NaN      general              Sales     5852051  \n",
      "104600    4668677           NaN      general              Sales    10372286  \n",
      "104617    4766217           NaN      general              Sales     5852051  \n",
      "\n",
      "[29808 rows x 10 columns]\n"
     ]
    }
   ],
   "source": [
    "import pandas as pd\n",
    "from matplotlib import pyplot as plt\n",
    "import seaborn as sns\n",
    "\n",
    "workouts = pd.read_csv('workouts.csv', parse_dates=['start_at'])\n",
    "users = pd.read_excel('users.xlsx')\n",
    "\n",
    "# сразу создадим новый датафрейм, в котором соединены уроки и пользователи\n",
    "\n",
    "workouts_users = pd.merge(workouts, users,\n",
    "                          how='left',\n",
    "                          left_on='client_id', right_on='user_id')\n",
    "\n",
    "trainings_by_day = workouts.groupby('start_at').head()\n",
    "\n",
    "print(trainings_by_day)\n"
   ]
  },
  {
   "cell_type": "code",
   "execution_count": 2,
   "id": "0db0ae46",
   "metadata": {},
   "outputs": [
    {
     "name": "stdout",
     "output_type": "stream",
     "text": [
      "Collecting openpyxl\n",
      "  Downloading openpyxl-3.0.7-py2.py3-none-any.whl (243 kB)\n",
      "Collecting et-xmlfile\n",
      "  Downloading et_xmlfile-1.1.0-py3-none-any.whl (4.7 kB)\n",
      "Installing collected packages: et-xmlfile, openpyxl\n",
      "Successfully installed et-xmlfile-1.1.0 openpyxl-3.0.7\n",
      "Note: you may need to restart the kernel to use updated packages.\n"
     ]
    }
   ],
   "source": [
    "pip install openpyxl"
   ]
  },
  {
   "cell_type": "code",
   "execution_count": 13,
   "id": "64d8f44d",
   "metadata": {
    "scrolled": true
   },
   "outputs": [
    {
     "name": "stdout",
     "output_type": "stream",
     "text": [
      "Requirement already satisfied: pip in c:\\python39\\lib\\site-packages (21.1)Note: you may need to restart the kernel to use updated packages.\n",
      "Collecting pip\n",
      "  Using cached pip-21.1.2-py3-none-any.whl (1.5 MB)\n",
      "Installing collected packages: pip\n",
      "  Attempting uninstall: pip\n",
      "    Found existing installation: pip 21.1\n",
      "    Uninstalling pip-21.1:\n",
      "      Successfully uninstalled pip-21.1\n",
      "Successfully installed pip-21.1.2\n",
      "\n"
     ]
    },
    {
     "name": "stderr",
     "output_type": "stream",
     "text": [
      "WARNING: Value for scheme.headers does not match. Please report this to <https://github.com/pypa/pip/issues/9617>\n",
      "distutils: c:\\python39\\Include\\UNKNOWN\n",
      "sysconfig: c:\\python39\\Include\n",
      "WARNING: Additional context:\n",
      "user = False\n",
      "home = None\n",
      "root = None\n",
      "prefix = None\n",
      "WARNING: Value for scheme.headers does not match. Please report this to <https://github.com/pypa/pip/issues/9617>\n",
      "distutils: c:\\python39\\Include\\UNKNOWN\n",
      "sysconfig: c:\\python39\\Include\n",
      "WARNING: Additional context:\n",
      "user = False\n",
      "home = None\n",
      "root = None\n",
      "prefix = None\n"
     ]
    }
   ],
   "source": []
  },
  {
   "cell_type": "code",
   "execution_count": null,
   "id": "06cd2356",
   "metadata": {},
   "outputs": [],
   "source": []
  },
  {
   "cell_type": "code",
   "execution_count": null,
   "id": "365df39d",
   "metadata": {},
   "outputs": [],
   "source": []
  }
 ],
 "metadata": {
  "kernelspec": {
   "display_name": "Python 3",
   "language": "python",
   "name": "python3"
  },
  "language_info": {
   "codemirror_mode": {
    "name": "ipython",
    "version": 3
   },
   "file_extension": ".py",
   "mimetype": "text/x-python",
   "name": "python",
   "nbconvert_exporter": "python",
   "pygments_lexer": "ipython3",
   "version": "3.9.2"
  }
 },
 "nbformat": 4,
 "nbformat_minor": 5
}
